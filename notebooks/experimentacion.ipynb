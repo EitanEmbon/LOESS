{
 "cells": [
  {
   "cell_type": "code",
   "execution_count": 1,
   "metadata": {},
   "outputs": [
    {
     "name": "stdout",
     "output_type": "stream",
     "text": [
      "/home/eitancho/Escritorio/Metodos/metnum-labo/TP3/notebooks\n",
      "Python 3.8.0\n"
     ]
    },
    {
     "name": "stderr",
     "output_type": "stream",
     "text": [
      "/home/eitancho/.pyenv/versions/3.8.0/envs/tp2_3.8/lib/python3.8/site-packages/statsmodels/tsa/base/tsa_model.py:7: FutureWarning: pandas.Int64Index is deprecated and will be removed from pandas in a future version. Use pandas.Index with the appropriate dtype instead.\n",
      "  from pandas import (to_datetime, Int64Index, DatetimeIndex, Period,\n",
      "/home/eitancho/.pyenv/versions/3.8.0/envs/tp2_3.8/lib/python3.8/site-packages/statsmodels/tsa/base/tsa_model.py:7: FutureWarning: pandas.Float64Index is deprecated and will be removed from pandas in a future version. Use pandas.Index with the appropriate dtype instead.\n",
      "  from pandas import (to_datetime, Int64Index, DatetimeIndex, Period,\n",
      "/home/eitancho/.pyenv/versions/3.8.0/envs/tp2_3.8/lib/python3.8/site-packages/tqdm/auto.py:22: TqdmWarning: IProgress not found. Please update jupyter and ipywidgets. See https://ipywidgets.readthedocs.io/en/stable/user_install.html\n",
      "  from .autonotebook import tqdm as notebook_tqdm\n"
     ]
    }
   ],
   "source": [
    "\n",
    "!pwd\n",
    "!python --version\n",
    "import pandas as pd\n",
    "\n",
    "import numpy as np\n",
    "\n",
    "import warnings\n",
    "#import sklearn.exceptions\n",
    "#warnings.filterwarnings(\"ignore\", category=sklearn.exceptions.UndefinedMetricWarning)\n",
    "\n",
    "#from sklearn import preprocessing\n",
    "from sklearn.preprocessing import PolynomialFeatures\n",
    "#import time\n",
    "\n",
    "import seaborn as sns\n",
    "import statsmodels.api as sm\n",
    "import pylab as py\n",
    "\n",
    "\n",
    "from tqdm.auto import tqdm\n",
    "import matplotlib.pyplot as plt\n",
    "\n",
    "import scipy as sp \n",
    "import confidence_interval_estimator_ML.utils as cie\n"
   ]
  },
  {
   "cell_type": "markdown",
   "metadata": {},
   "source": [
    "# Funciones que vamos a necesitar\n"
   ]
  },
  {
   "cell_type": "code",
   "execution_count": 2,
   "metadata": {},
   "outputs": [],
   "source": [
    "# Armamos la matriz X a usar\n",
    "\n",
    "def makeMatrixXy(df):\n",
    "    # x_1 = radiation, x_2 = temperature, x_3 = wind\n",
    "    if df.shape[1] == 2:\n",
    "        X = df.values[:,1].reshape(-1,1)\n",
    "        y = df.values[:,0].reshape(-1,1)\n",
    "    else:    \n",
    "        X = df[df.columns[-3:]].values\n",
    "        y = df[\"ozone\"].values.reshape(-1,1)\n",
    "    return (X,y)\n",
    "\n",
    "# Esta funcion estandariza un vector.\n",
    "def standarize(x, retornarStandarizacion = False , conMu = False):\n",
    "    sigma = np.std(X)\n",
    "    return (X/sigma , sigma)\n",
    "\n",
    "\n",
    "# Aplicar a X ajuste lineal o cuadratico como la función g\n",
    "## Esta funcion devuelve los coeficiontes de una funcion polinomica del estilo\n",
    "# en el caso cuadratico\n",
    "# [1, X_1, X_2, X_3, X_1^2, X_1X_2, X_1X_3, X_2^2, X_2X_3, X_3^2]\n",
    "# en el caso lineal\n",
    "# [1, x_1, X_2 , X_3]\n",
    "# PD: Asi quedarían las filas de la matriz X transformada. \n",
    "\n",
    "def ajustarFuncionG(X, grado):\n",
    "    # Aplicar ajuste\n",
    "    poly = PolynomialFeatures(grado)\n",
    "    X = poly.fit_transform(X)\n",
    "    return X\n",
    "\n",
    "def w(dist, maxDist, p):    \n",
    "    u =  dist/maxDist\n",
    "    u = np.abs(u)\n",
    "    if u >= 1 :\n",
    "        return 0 \n",
    "    return (1-u**p)**p\n",
    "\n",
    "def armarW(X,  pivote, f, p):\n",
    "    n = X.shape[0]\n",
    "    q = int(f * n)\n",
    "    x = pivote\n",
    "    vectorDist = np.linalg.norm(X-pivote, axis=1)\n",
    "    ind = np.argsort(vectorDist)\n",
    "    # Busco la distancia q-esima\n",
    "    i = ind[q-1]\n",
    "    maxDist = vectorDist[i]\n",
    "    #Aplico la funcion w_i(x) \n",
    "    for i in range(0, vectorDist.shape[0]):\n",
    "        vectorDist[i] = w(vectorDist[i], maxDist, p)    \n",
    "    W = np.diag(vectorDist)\n",
    "    return  W\n",
    "\n",
    "def reslverPorSVD(A, b):\n",
    "    U, s, V_t = np.linalg.svd(A)\n",
    "    m = A.shape[0]\n",
    "    n = A.shape[1]\n",
    "    r = s.size\n",
    "    # || U.T A - U.T b||\n",
    "    s_inv = np.diag(np.concatenate((s, np.zeros(m - r))))\n",
    "    s_inv = np.linalg.pinv(s_inv) \n",
    "    y_sol = np.matmul(U.transpose(), b)\n",
    "    y_sol = np.matmul(s_inv, y_sol)\n",
    "    \n",
    "    if (m > n):\n",
    "        y_sol = np.delete(y_sol, np.arange(n, m))\n",
    "    return np.matmul(V_t.transpose(), y_sol)\n",
    "    \n",
    "\n",
    "\n"
   ]
  },
  {
   "cell_type": "code",
   "execution_count": 5,
   "metadata": {},
   "outputs": [],
   "source": [
    "def predict(x,X,y,f,g, p, beta = False):\n",
    "    W = armarW(X,x,f,p)\n",
    "    A = ajustarFuncionG(X, g)\n",
    "    x = ajustarFuncionG(x.reshape(1,-1),g)[0]\n",
    "    B = np.linalg.pinv(A.T @ W @ A) @ A.T @ W @ y\n",
    "    ŷ_i = B.T @ x \n",
    "    if beta:\n",
    "        return B \n",
    "    return ŷ_i \n",
    "\n",
    "    "
   ]
  },
  {
   "cell_type": "code",
   "execution_count": 6,
   "metadata": {},
   "outputs": [],
   "source": [
    "# Aca es estandarizando\n",
    "def estimate_conditioning2(X,y,x_fijos,f,p,g,std, beta = False):\n",
    "    Xsd = []\n",
    "    Xs = []\n",
    "    for j in range(X.shape[1]):\n",
    "        Xsd.append(np.std(X[:,j]))\n",
    "        Xs.append(X[:,j]/Xsd[j])\n",
    "    Xs = np.array(Xs).T\n",
    "    y_sd =np.std(y)\n",
    "    ys = y/y_sd\n",
    "    res = []\n",
    "    for row in x_fijos:\n",
    "        if row.size == 1:\n",
    "            row = row/Xsd[0]\n",
    "            res.append(predict(row,Xs,ys,f,g,p)* y_sd)\n",
    "        else:    \n",
    "            for i in range(row.size):\n",
    "                row[i] = row[i]/Xsd[i]\n",
    "                res.append(predict(row,Xs,ys,f,g,p)* y_sd)\n",
    "    return res\n",
    "    "
   ]
  },
  {
   "cell_type": "code",
   "execution_count": 6,
   "metadata": {},
   "outputs": [],
   "source": [
    "# Aca no estandarizamos\n",
    "def estimate_conditioning(X,y,x_fijos,f, p, g, std):\n",
    "    res = []\n",
    "    for row in x_fijos:\n",
    "        res.append(predict(row,X,y,f,g,p))\n",
    "    return res\n"
   ]
  },
  {
   "cell_type": "markdown",
   "metadata": {},
   "source": [
    "# Descargamos el dataset"
   ]
  },
  {
   "cell_type": "code",
   "execution_count": 8,
   "metadata": {},
   "outputs": [],
   "source": [
    "df = pd.read_csv(\"../data/dataset.csv\")\n"
   ]
  },
  {
   "cell_type": "markdown",
   "metadata": {},
   "source": [
    "## Generamos Data sintetica"
   ]
  },
  {
   "cell_type": "code",
   "execution_count": null,
   "metadata": {},
   "outputs": [],
   "source": [
    "\n",
    "def data_sintetica():\n",
    "\n",
    "    colX = np.random.uniform(0,3 * 3.14, 111)\n",
    "    colY = np.random.normal(0, 0.3, 111) + np.sin(colX)\n",
    "    data = np.column_stack((colY, colX))\n",
    "    return pd.DataFrame(data, columns= [\"sen(x)\", \"x\"])\n",
    "df_sintetica = data_sintetica()\n"
   ]
  },
  {
   "cell_type": "markdown",
   "metadata": {},
   "source": [
    "## Grafico para explicar la distribucion de datos "
   ]
  },
  {
   "cell_type": "code",
   "execution_count": 10,
   "metadata": {},
   "outputs": [
    {
     "data": {
      "text/plain": [
       "<seaborn.axisgrid.PairGrid at 0x7f0a7d3b17f0>"
      ]
     },
     "execution_count": 10,
     "metadata": {},
     "output_type": "execute_result"
    },
    {
     "data": {
      "image/png": "[encoded data removed]",
      "text/plain": [
       "<Figure size 720x720 with 20 Axes>"
      ]
     },
     "metadata": {
      "needs_background": "light"
     },
     "output_type": "display_data"
    }
   ],
   "source": [
    "sns.pairplot(df[df.columns[-4:]])"
   ]
  },
  {
   "cell_type": "markdown",
   "metadata": {},
   "source": [
    "## Replicamos los graficos del articulo del 88"
   ]
  },
  {
   "cell_type": "markdown",
   "metadata": {},
   "source": [
    "# Component-residual Plot"
   ]
  },
  {
   "cell_type": "code",
   "execution_count": 11,
   "metadata": {},
   "outputs": [],
   "source": [
    "# Comoponente \\in { 1 : \"radiation\", 2 : \"temperature\", 3 : \"wind\"}\n",
    "def component_residualplot(X, residual, componente): \n",
    "    comp = {1: \"radiation\", 2: \"temperature\", 3: \"wind\", 4: \"x\"}\n",
    "    if componente == 4:\n",
    "        component = X.reshape(-1,1)\n",
    "        data = np.concatenate((component, residual), 1)    \n",
    "    else:\n",
    "        component = X[:, componente -1].reshape(-1,1)\n",
    "        data = np.concatenate((component, residual), 1)\n",
    "    wide_df = pd.DataFrame(data, columns = [comp[componente], \"residuals\"])\n",
    "    grid = sns.JointGrid(x = comp[componente], y = \"residuals\", data= wide_df, space=0, size=6, ratio=50)\n",
    "    # Create your scatter plot\n",
    "    grid.plot_joint(plt.scatter, edgecolors = \"k\", facecolors = 'none')\n",
    "    # Create your line plot.\n",
    "    x =  np.linspace(np.min(component), np.max(component) + 1,200)\n",
    "    ŷ_line = estimate_conditioning2(component,residual,x,f=2/3,p=3,g=1,std= True)\n",
    "    grid.ax_joint.plot(x,ŷ_line, 'black', linewidth = 2)\n",
    "    \n"
   ]
  },
  {
   "cell_type": "markdown",
   "metadata": {},
   "source": [
    "## QQplot + residual abs"
   ]
  },
  {
   "cell_type": "code",
   "execution_count": 12,
   "metadata": {},
   "outputs": [],
   "source": [
    "\n",
    "#grado = 1\n",
    "#f = 3/4\n",
    "def qqplot(residual):\n",
    "    fig, ax = plt.subplots(figsize=(5, 5))\n",
    "    residual = np.sort(residual.reshape(-1)) \n",
    "    sm.qqplot(residual, loc=np.mean(residual), scale= 1, ax = ax, markerfacecolor='none', markeredgecolor='k')\n",
    "    plt.show()\n",
    "\n",
    "\n",
    "def res_vs_fitted(ŷ, residual): \n",
    "    residual = np.abs(residual)\n",
    "    data=np.column_stack((ŷ,np.abs(residual)))\n",
    "    wide_df = pd.DataFrame(data, columns = [\"fitted values\", \"absolute residuals\"])\n",
    "    grid = sns.JointGrid(x = \"fitted values\", y = \"absolute residuals\", data= wide_df)\n",
    "    # Create your scatter plot\n",
    "    grid.plot_joint(plt.scatter, edgecolors='k', facecolors = 'none')\n",
    "    # Create your line plot.\n",
    "    x =  np.linspace(np.min(ŷ), np.max(ŷ) + 1,200)\n",
    "    ŷ_line = estimate_conditioning2(np.array(ŷ),residual,x.reshape(-1,1),f=2/3,p=3,g=1,std= True)\n",
    "    grid.ax_joint.plot(x,ŷ_line, 'black', linewidth = 2)\n",
    "    \n",
    "    "
   ]
  },
  {
   "cell_type": "code",
   "execution_count": 14,
   "metadata": {},
   "outputs": [],
   "source": [
    "X, y = makeMatrixXy(df)\n",
    "ŷ = estimate_conditioning(X,y,X,f=0.4,p=3,g=1,std= True)\n",
    "#ŷ = np.power(estimate_conditioning2(X,ys,X,f=0.8,p=3,g=2,std= True), 3)\n",
    "residual = y - np.array(ŷ)"
   ]
  },
  {
   "cell_type": "code",
   "execution_count": null,
   "metadata": {},
   "outputs": [],
   "source": [
    "qqplot(residual)\n",
    "res_vs_fitted(ŷ,residual)\n",
    "component_residualplot(X, residual, 2)"
   ]
  },
  {
   "cell_type": "markdown",
   "metadata": {},
   "source": [
    "## plots\n"
   ]
  },
  {
   "cell_type": "code",
   "execution_count": 1,
   "metadata": {},
   "outputs": [],
   "source": [
    "def conditioning(df, std):\n",
    "    #dejo fijo 2 variables y grafico Y contra la otra\n",
    "\n",
    "    x_solar = np.linspace(0,300,100)\n",
    "    x_temperature = np.linspace(60,95,100)\n",
    "    x_wind = np.linspace(3,18,100)\n",
    "\n",
    "    fixed_solar = [290,170,50]\n",
    "    fixed_temperature = [90,76,62]\n",
    "    fixed_wind = [5,10,15]\n",
    "\n",
    "    fig, axs1 = plt.subplots(3,3, constrained_layout=False)\n",
    "    fig.set_size_inches(7, 7)\n",
    "    plt.suptitle(\"Wind speed\", size = 15)\n",
    "    fig, axs2 = plt.subplots(3,3, constrained_layout=False)\n",
    "    fig.set_size_inches(7, 7)\n",
    "    plt.suptitle(\"Wind speed\", size = 15)\n",
    "    fig, axs3 = plt.subplots(3,3, constrained_layout=False)\n",
    "    fig.set_size_inches(7, 7)\n",
    "    plt.suptitle(\"Temperature\", size = 15)\n",
    " \n",
    "    Xs, ys = makeMatrixXy(df)\n",
    "    ys = np.power(ys, 1/3)\n",
    "    \n",
    "    for idx,wind in enumerate(fixed_wind):\n",
    "        for idj,temp in enumerate(fixed_temperature):\n",
    "            x_fijos = np.column_stack((x_solar,np.full(x_solar.size,temp),np.full(x_solar.size,wind)))\n",
    "            ŷ = estimate_conditioning2(Xs, ys, x_fijos ,g=2,f=.8,p=3,std= std )\n",
    "            if idj != 0:\n",
    "                axs1[idx,idj].axes.yaxis.set_visible(False)\n",
    "            if idx != 2:\n",
    "                axs1[idx,idj].axes.xaxis.set_visible(False)\n",
    "            axs1[idj,idx].set_ylim(0, 7)\n",
    "            axs1[idj,idx].plot(x_solar,ŷ, \"k\")\n",
    "    for idx,wind in enumerate(fixed_wind):\n",
    "        axs1[0,idx].set_title(wind)\n",
    "    axs1[2,1].set_xlabel(\"Solar Radiation\", size=15)\n",
    "    axs1[1,0].set_ylabel(\"Cube Root Ozone\", size=15)\n",
    "    par = axs1[1,2].twinx()\n",
    "    par.set_yticklabels([])\n",
    "    par.set_ylabel(\"Temperature\", size = 15)\n",
    "    for idx,temp in enumerate(fixed_temperature):\n",
    "        axs1[idx,2].set_title(temp,loc='right')\n",
    "\n",
    "    for idx,wind in enumerate(fixed_wind):\n",
    "        for idj,solar in enumerate(fixed_solar):\n",
    "            x_fijos = np.column_stack((np.full(x_temperature.size,solar),x_temperature ,np.full(x_temperature.size,wind)))\n",
    "            ŷ = estimate_conditioning2(Xs, ys, x_fijos ,g=2,f=.8,p=3,std= std )\n",
    "            axs2[idj,idx].set_ylim(0, 7)\n",
    "            axs2[idj,idx].plot(x_temperature,ŷ, \"k\")\n",
    "            if idj != 0:\n",
    "                axs2[idx,idj].axes.yaxis.set_visible(False)\n",
    "            if idx != 2:\n",
    "                axs2[idx,idj].axes.xaxis.set_visible(False)\n",
    "    axs2[2,1].set_xlabel(\"Temperature\", size=15)\n",
    "    axs2[1,0].set_ylabel(\"Cube Root Ozone\", size=15)\n",
    "    par = axs2[1,2].twinx()\n",
    "    par.set_yticklabels([])\n",
    "    par.set_ylabel(\"Solar Radiation\", size = 15)\n",
    "    for idx,wind in enumerate(fixed_wind):\n",
    "        axs2[0,idx].set_title(wind)\n",
    "\n",
    "    for idx,solar in enumerate(fixed_solar):\n",
    "        axs2[idx,2].set_title(solar,loc='right')\n",
    "\n",
    "    for idx,temp in enumerate(fixed_temperature):\n",
    "        for idj,solar in enumerate(fixed_solar):\n",
    "            x_fijos = np.column_stack((np.full(x_wind.size,solar),np.full(x_wind.size,temp),x_wind))\n",
    "            ŷ = estimate_conditioning2(Xs, ys, x_fijos ,g=2,f=.8,p=3,std= std )\n",
    "            axs3[idx,idj].set_ylim(0, 7)\n",
    "            axs3[idx,idj].plot(x_wind,ŷ, \"k\")\n",
    "            if idj != 0:\n",
    "                axs3[idx,idj].axes.yaxis.set_visible(False)\n",
    "            if idx != 2:\n",
    "                axs3[idx,idj].axes.xaxis.set_visible(False)\n",
    "    axs3[2,1].set_xlabel(\"Wind Speed\", size=15)\n",
    "    axs3[1,0].set_ylabel(\"Cube Root Ozone\", size=15)\n",
    "    par = axs3[1,2].twinx()\n",
    "    par.set_yticklabels([])\n",
    "    par.set_ylabel(\"Solar Radiation\", size = 15)    \n",
    "    for idx,temp in enumerate(np.flip(fixed_temperature)):\n",
    "        axs3[0,idx].set_title(temp)\n",
    "\n",
    "        axs1[idx,2].set_ylabel(temp)\n",
    "    for idx,wind in enumerate(fixed_wind):\n",
    "        axs3[idx,2].set_title(wind,loc='right')\n",
    "    \n",
    "  "
   ]
  },
  {
   "cell_type": "code",
   "execution_count": null,
   "metadata": {},
   "outputs": [],
   "source": [
    "conditioning(df, True)"
   ]
  },
  {
   "cell_type": "markdown",
   "metadata": {},
   "source": [
    "## Variar funcion de Distancia"
   ]
  },
  {
   "cell_type": "code",
   "execution_count": 20,
   "metadata": {},
   "outputs": [],
   "source": [
    "def distFunction (x, p):\n",
    "    x= np.abs(x)\n",
    "    if x >= 1 :\n",
    "        return 0 \n",
    "    return (1-x**p)**p"
   ]
  },
  {
   "cell_type": "code",
   "execution_count": 21,
   "metadata": {},
   "outputs": [
    {
     "data": {
      "text/plain": [
       "[<matplotlib.lines.Line2D at 0x7f0a73de94f0>]"
      ]
     },
     "execution_count": 21,
     "metadata": {},
     "output_type": "execute_result"
    },
    {
     "data": {
      "image/png": "[encoded data removed]",
      "text/plain": [
       "<Figure size 432x288 with 1 Axes>"
      ]
     },
     "metadata": {
      "needs_background": "light"
     },
     "output_type": "display_data"
    }
   ],
   "source": [
    "plt.plot(np.linspace(-2,2,100), [distFunction(x,10) for x in np.linspace(-2,2,100)])"
   ]
  },
  {
   "cell_type": "markdown",
   "metadata": {},
   "source": [
    "# Experimentos"
   ]
  },
  {
   "cell_type": "code",
   "execution_count": 3,
   "metadata": {},
   "outputs": [],
   "source": [
    "def graph_estimator(x,X, y, ŷ, semirect = False, graficarFuncion =True):\n",
    "    plt.scatter(X, y, edgecolors = \"#6b1528\", facecolors = \"none\")\n",
    "    plt.plot(x, ŷ, color = \"black\", linewidth=2, label = \"Regresión\")\n",
    "    df = data_sintetica()\n",
    "    if graficarFuncion:\n",
    "        plt.plot(np.linspace(0,10),np.sin(np.linspace(0,10)), color = \"green\", label = \"Función\", linewidth = 2.0)\n",
    "    plt.legend()\n",
    "    #plt.xlabel(\"x\")\n",
    "    #plt.ylabel(\"ŷ\")\n",
    "    #plt.title(\"Regresión de la función\")\n",
    "    plt.show()\n",
    "    "
   ]
  },
  {
   "cell_type": "markdown",
   "metadata": {},
   "source": [
    "# Variamos f, g, p al graficar la regresión del sen(x)"
   ]
  },
  {
   "cell_type": "markdown",
   "metadata": {},
   "source": [
    "Vemos las posibilidades de la data sintetica variando a y b y la varianza de los datos de la función \n",
    "$sen(x)$"
   ]
  },
  {
   "cell_type": "code",
   "execution_count": null,
   "metadata": {},
   "outputs": [],
   "source": [
    "X , y = makeMatrixXy(df_sintetica)\n",
    "ŷ = estimate_conditioning2(X,y,X,f=0.5,p=3,g=9,std=True)\n",
    "residual_s = y - ŷ"
   ]
  },
  {
   "cell_type": "code",
   "execution_count": 109,
   "metadata": {},
   "outputs": [],
   "source": [
    "x = np.linspace(0, 10,300)\n",
    "sên_x = estimate_conditioning2(X,y,x,f=0.9,p=3,g=3,std=True)\n"
   ]
  },
  {
   "cell_type": "code",
   "execution_count": null,
   "metadata": {},
   "outputs": [],
   "source": [
    "graph_estimator(x,X, y,sên_x, graficarFuncion=False)\n"
   ]
  },
  {
   "cell_type": "code",
   "execution_count": null,
   "metadata": {},
   "outputs": [],
   "source": [
    "component_residualplot(X,residual_s,4)\n",
    "res_vs_fitted(ŷ, residual_s)"
   ]
  }
 ],
 "metadata": {
  "kernelspec": {
   "display_name": "Python 3.8.0 64-bit ('tp2_3.8')",
   "language": "python",
   "name": "python3"
  },
  "language_info": {
   "codemirror_mode": {
    "name": "ipython",
    "version": 3
   },
   "file_extension": ".py",
   "mimetype": "text/x-python",
   "name": "python",
   "nbconvert_exporter": "python",
   "pygments_lexer": "ipython3",
   "version": "3.8.0"
  },
  "orig_nbformat": 4,
  "vscode": {
   "interpreter": {
    "hash": "4e16687017bc3a92886ee95df2e8e6e314d27dedf2aad21d3adb48a4430f920c"
   }
  }
 },
 "nbformat": 4,
 "nbformat_minor": 2
}
